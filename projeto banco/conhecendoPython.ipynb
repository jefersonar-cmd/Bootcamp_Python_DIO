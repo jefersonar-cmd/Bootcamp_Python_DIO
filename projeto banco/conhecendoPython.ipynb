{
 "cells": [
  {
   "cell_type": "code",
   "execution_count": 1,
   "id": "6c5fc1e8-5712-42a2-8de7-d1479e2e8c68",
   "metadata": {},
   "outputs": [
    {
     "name": "stdout",
     "output_type": "stream",
     "text": [
      "HELLO WORLD!\n"
     ]
    }
   ],
   "source": [
    "print(\"HELLO WORLD!\")"
   ]
  },
  {
   "cell_type": "markdown",
   "id": "a6dbd5f7",
   "metadata": {},
   "source": [
    "# Tipo de Dados no Python"
   ]
  },
  {
   "cell_type": "code",
   "execution_count": 1,
   "id": "4bfdd7bd-1dd0-42c8-989b-fff36cb47166",
   "metadata": {},
   "outputs": [
    {
     "data": {
      "text/plain": [
       "[0, 2, 4, 6, 64]"
      ]
     },
     "execution_count": 1,
     "metadata": {},
     "output_type": "execute_result"
    }
   ],
   "source": [
    "[n**2 if n > 6 else n for n in range(10) if n % 2 == 0]"
   ]
  },
  {
   "cell_type": "markdown",
   "id": "a6649278",
   "metadata": {},
   "source": [
    "# Conta Bancária"
   ]
  },
  {
   "cell_type": "code",
   "execution_count": 62,
   "id": "af36f3ae",
   "metadata": {},
   "outputs": [
    {
     "name": "stdout",
     "output_type": "stream",
     "text": [
      "\n",
      "\n",
      "##############################\n",
      "#        Banco Memeral       #\n",
      "##############################\n",
      "1 - Depósito\n",
      "2 - Saque\n",
      "3 - Extrato\n",
      "0 - Sair\n",
      "\n"
     ]
    },
    {
     "ename": "KeyboardInterrupt",
     "evalue": "Interrupted by user",
     "output_type": "error",
     "traceback": [
      "\u001b[1;31m---------------------------------------------------------------------------\u001b[0m",
      "\u001b[1;31mKeyboardInterrupt\u001b[0m                         Traceback (most recent call last)",
      "Cell \u001b[1;32mIn[62], line 21\u001b[0m\n\u001b[0;32m     18\u001b[0m \u001b[38;5;28;01mwhile\u001b[39;00m \u001b[38;5;28;01mTrue\u001b[39;00m:\n\u001b[0;32m     19\u001b[0m     \u001b[38;5;28mprint\u001b[39m(MENU)\n\u001b[1;32m---> 21\u001b[0m     escolha \u001b[38;5;241m=\u001b[39m \u001b[38;5;28mint\u001b[39m(\u001b[38;5;28minput\u001b[39m(\u001b[38;5;124m'\u001b[39m\u001b[38;5;124mEscolha uma opção: \u001b[39m\u001b[38;5;124m'\u001b[39m))\n\u001b[0;32m     22\u001b[0m     \u001b[38;5;28;01mif\u001b[39;00m escolha \u001b[38;5;241m==\u001b[39m \u001b[38;5;241m1\u001b[39m:\n\u001b[0;32m     23\u001b[0m         entrada \u001b[38;5;241m=\u001b[39m \u001b[38;5;28mfloat\u001b[39m(\u001b[38;5;28minput\u001b[39m(\u001b[38;5;124m'\u001b[39m\u001b[38;5;124mValor a ser depositado: R$\u001b[39m\u001b[38;5;124m'\u001b[39m))\n",
      "File \u001b[1;32mc:\\Users\\lordo\\anaconda3\\Lib\\site-packages\\ipykernel\\kernelbase.py:1262\u001b[0m, in \u001b[0;36mKernel.raw_input\u001b[1;34m(self, prompt)\u001b[0m\n\u001b[0;32m   1260\u001b[0m     msg \u001b[38;5;241m=\u001b[39m \u001b[38;5;124m\"\u001b[39m\u001b[38;5;124mraw_input was called, but this frontend does not support input requests.\u001b[39m\u001b[38;5;124m\"\u001b[39m\n\u001b[0;32m   1261\u001b[0m     \u001b[38;5;28;01mraise\u001b[39;00m StdinNotImplementedError(msg)\n\u001b[1;32m-> 1262\u001b[0m \u001b[38;5;28;01mreturn\u001b[39;00m \u001b[38;5;28mself\u001b[39m\u001b[38;5;241m.\u001b[39m_input_request(\n\u001b[0;32m   1263\u001b[0m     \u001b[38;5;28mstr\u001b[39m(prompt),\n\u001b[0;32m   1264\u001b[0m     \u001b[38;5;28mself\u001b[39m\u001b[38;5;241m.\u001b[39m_parent_ident[\u001b[38;5;124m\"\u001b[39m\u001b[38;5;124mshell\u001b[39m\u001b[38;5;124m\"\u001b[39m],\n\u001b[0;32m   1265\u001b[0m     \u001b[38;5;28mself\u001b[39m\u001b[38;5;241m.\u001b[39mget_parent(\u001b[38;5;124m\"\u001b[39m\u001b[38;5;124mshell\u001b[39m\u001b[38;5;124m\"\u001b[39m),\n\u001b[0;32m   1266\u001b[0m     password\u001b[38;5;241m=\u001b[39m\u001b[38;5;28;01mFalse\u001b[39;00m,\n\u001b[0;32m   1267\u001b[0m )\n",
      "File \u001b[1;32mc:\\Users\\lordo\\anaconda3\\Lib\\site-packages\\ipykernel\\kernelbase.py:1305\u001b[0m, in \u001b[0;36mKernel._input_request\u001b[1;34m(self, prompt, ident, parent, password)\u001b[0m\n\u001b[0;32m   1302\u001b[0m \u001b[38;5;28;01mexcept\u001b[39;00m \u001b[38;5;167;01mKeyboardInterrupt\u001b[39;00m:\n\u001b[0;32m   1303\u001b[0m     \u001b[38;5;66;03m# re-raise KeyboardInterrupt, to truncate traceback\u001b[39;00m\n\u001b[0;32m   1304\u001b[0m     msg \u001b[38;5;241m=\u001b[39m \u001b[38;5;124m\"\u001b[39m\u001b[38;5;124mInterrupted by user\u001b[39m\u001b[38;5;124m\"\u001b[39m\n\u001b[1;32m-> 1305\u001b[0m     \u001b[38;5;28;01mraise\u001b[39;00m \u001b[38;5;167;01mKeyboardInterrupt\u001b[39;00m(msg) \u001b[38;5;28;01mfrom\u001b[39;00m \u001b[38;5;28;01mNone\u001b[39;00m\n\u001b[0;32m   1306\u001b[0m \u001b[38;5;28;01mexcept\u001b[39;00m \u001b[38;5;167;01mException\u001b[39;00m:\n\u001b[0;32m   1307\u001b[0m     \u001b[38;5;28mself\u001b[39m\u001b[38;5;241m.\u001b[39mlog\u001b[38;5;241m.\u001b[39mwarning(\u001b[38;5;124m\"\u001b[39m\u001b[38;5;124mInvalid Message:\u001b[39m\u001b[38;5;124m\"\u001b[39m, exc_info\u001b[38;5;241m=\u001b[39m\u001b[38;5;28;01mTrue\u001b[39;00m)\n",
      "\u001b[1;31mKeyboardInterrupt\u001b[0m: Interrupted by user"
     ]
    }
   ],
   "source": [
    "import time, datetime, random\n",
    "MENU = f'''\n",
    "\n",
    "{'#'*30}\n",
    "#        Banco Memeral       #\n",
    "{'#'*30}\n",
    "1 - Depósito\n",
    "2 - Saque\n",
    "3 - Extrato\n",
    "0 - Sair\n",
    "'''\n",
    "CONTA = random.randrange(100000,1000000)\n",
    "LIMITE_SAQUE = 500\n",
    "qtd_saque = 0\n",
    "saldo = 0\n",
    "transacoes = []\n",
    "id = 0\n",
    "while True:\n",
    "    print(MENU)\n",
    "\n",
    "    escolha = int(input('Escolha uma opção: '))\n",
    "    if escolha == 1:\n",
    "        entrada = float(input('Valor a ser depositado: R$'))\n",
    "        if entrada > 0:\n",
    "            saldo += entrada\n",
    "            transacoes.append({'id': id, 'tipo': 'Depósito', 'valor': entrada})\n",
    "            print(f'Operação: Depósito\\nValor: R${entrada:.2f}\\nStatus: Aprovado')\n",
    "            time.sleep(10)\n",
    "        else:\n",
    "            print(f'Operação: Depósito\\nValor: R${entrada:.2f}\\nStatus: Rejeitado\\nMotivo: Valor negativo')\n",
    "            time.sleep(10)\n",
    "    elif escolha == 2:\n",
    "        if qtd_saque < 3:\n",
    "            if saldo > 0:\n",
    "                saque = float(input('Valor a ser Sacado: R$'))\n",
    "                if saque <= LIMITE_SAQUE:\n",
    "                    saldo -= saque\n",
    "                    qtd_saque += 1\n",
    "                    transacoes.append({'id': id, 'tipo': 'Saque', 'valor': saque})\n",
    "                    print(f'Operação: Saque\\nValor: R${saque:.2f}\\nStatus: Aprovado')\n",
    "                    time.sleep(10)\n",
    "                else:\n",
    "                    print(f'Operação: Saque\\nValor: R${saque:.2f}\\nStatus: Rejeitado\\nMotivo: Valor acima de R$500')\n",
    "                    time.sleep(10)\n",
    "            else:\n",
    "                print(f'Operação: Saque\\nStatus: Rejeitado\\nMotivo: Você não possui saldo disponível')\n",
    "                time.sleep(10)\n",
    "        else:\n",
    "            print(f'Operação: Saque\\nStatus: Rejeitado\\nMotivo: Atingido limite de Saque diário')\n",
    "            time.sleep(10)\n",
    "    elif escolha == 3:\n",
    "        transacoes_str = '\\n'.join([f'{t[\"id\"]} - {t[\"tipo\"]}: R${t[\"valor\"]:>10.2f}' for t in transacoes])\n",
    "        trs_linha = max(len(linha) for linha in transacoes_str.strip().split('\\n'))\n",
    "        if trs_linha > 0:\n",
    "            div = '-'*trs_linha\n",
    "        else:\n",
    "            transacoes_str = 'Não Foram realizadas movimentações'\n",
    "            div = '-'*len(transacoes_str)\n",
    "        extrato = f'''\n",
    "        {div}\n",
    "        Conta: {CONTA}\n",
    "        Saldo: {saldo:.2f}\n",
    "        {div}\n",
    "        {transacoes_str}\n",
    "        {div}\n",
    "        {datetime.datetime.now()}\n",
    "        '''\n",
    "        print(extrato)\n",
    "    elif escolha == 0:\n",
    "        print('Obrigado por utilizar o sistema bancário')\n",
    "        break\n",
    "    else:\n",
    "        print('Escolha uma opção válida')\n",
    "\n",
    "\n",
    "\n"
   ]
  }
 ],
 "metadata": {
  "kernelspec": {
   "display_name": "Python 3 (ipykernel)",
   "language": "python",
   "name": "python3"
  },
  "language_info": {
   "codemirror_mode": {
    "name": "ipython",
    "version": 3
   },
   "file_extension": ".py",
   "mimetype": "text/x-python",
   "name": "python",
   "nbconvert_exporter": "python",
   "pygments_lexer": "ipython3",
   "version": "3.11.7"
  }
 },
 "nbformat": 4,
 "nbformat_minor": 5
}
