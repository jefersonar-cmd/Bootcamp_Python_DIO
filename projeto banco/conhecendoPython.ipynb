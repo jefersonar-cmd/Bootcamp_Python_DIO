{
 "cells": [
  {
   "metadata": {},
   "cell_type": "markdown",
   "source": [
    "# Decoradores, Iteradores e Geradores com Python\n",
    "\n",
    "- Conhecimento básico python\n",
    "\n",
    "Decoradores em resumo, são funções pais que possuem funções filhas (função dentro de função)\n"
   ],
   "id": "8eda2e931caf207"
  },
  {
   "metadata": {
    "ExecuteTime": {
     "end_time": "2024-06-11T17:01:35.378146Z",
     "start_time": "2024-06-11T17:01:35.370218Z"
    }
   },
   "cell_type": "code",
   "source": [
    "# decoradores = passagem de parametro\n",
    "def mensagem(nome):\n",
    "    print(f'Executando mensagem')\n",
    "    return f'Oi {nome}'\n",
    "\n",
    "def mensagem_longa(nome):\n",
    "    print('Executando mensagem longa')\n",
    "    return f'Olá tudo bem com você {nome}?'\n",
    "\n",
    "def executar(funcao, nome):\n",
    "    print('Executando executar')\n",
    "    return funcao(nome)\n",
    "\n",
    "print(executar(mensagem, 'joão'))\n",
    "print(executar(mensagem_longa, 'joão'))"
   ],
   "id": "8081376f9dd76410",
   "outputs": [
    {
     "name": "stdout",
     "output_type": "stream",
     "text": [
      "Executando executar\n",
      "Executando mensagem\n",
      "Oi joão\n",
      "Executando executar\n",
      "Executando mensagem longa\n",
      "Olá tudo bem com você joão?\n"
     ]
    }
   ],
   "execution_count": 3
  },
  {
   "metadata": {
    "ExecuteTime": {
     "end_time": "2024-06-11T17:05:08.688221Z",
     "start_time": "2024-06-11T17:05:08.683046Z"
    }
   },
   "cell_type": "code",
   "source": [
    "# decoradores = func interna\n",
    "def principal():\n",
    "    print('Executando principal')\n",
    "    \n",
    "    def func_interna():\n",
    "        print('Executando func_interna')\n",
    "        \n",
    "    def func_interna2():\n",
    "        print('Executando func_interna2')\n",
    "        \n",
    "    func_interna()\n",
    "    func_interna2()\n",
    "    \n",
    "principal()"
   ],
   "id": "80821032262db431",
   "outputs": [
    {
     "name": "stdout",
     "output_type": "stream",
     "text": [
      "Executando principal\n",
      "Executando func_interna\n",
      "Executando func_interna2\n"
     ]
    }
   ],
   "execution_count": 4
  },
  {
   "metadata": {
    "ExecuteTime": {
     "end_time": "2024-06-11T17:08:02.700391Z",
     "start_time": "2024-06-11T17:08:02.692937Z"
    }
   },
   "cell_type": "code",
   "source": [
    "# decoradores = return func\n",
    "def calculadora(operacao):\n",
    "    def soma(a, b):\n",
    "        return a + b\n",
    "    def subtracao(a, b):\n",
    "        return a - b\n",
    "    def multiplicacao(a, b):\n",
    "        return a * b\n",
    "    def divisao(a, b):\n",
    "        return a / b\n",
    "    \n",
    "    match operacao:\n",
    "        case '+':\n",
    "            return soma\n",
    "        case '-':\n",
    "            return subtracao\n",
    "        case '*':\n",
    "            return multiplicacao\n",
    "        case '/':\n",
    "            return divisao\n",
    "        \n",
    "op = calculadora('+')(2,2)\n",
    "print(op)\n",
    "op = calculadora('-')(2,2)\n",
    "print(op)\n",
    "op = calculadora('*')(2,2)\n",
    "print(op)\n",
    "op = calculadora('/')(2,2)\n",
    "print(op)"
   ],
   "id": "943ffd89f9bb0fc2",
   "outputs": [
    {
     "name": "stdout",
     "output_type": "stream",
     "text": [
      "4\n",
      "0\n",
      "4\n",
      "1.0\n"
     ]
    }
   ],
   "execution_count": 5
  },
  {
   "metadata": {
    "ExecuteTime": {
     "end_time": "2024-06-11T18:12:27.618512Z",
     "start_time": "2024-06-11T18:12:27.597291Z"
    }
   },
   "cell_type": "code",
   "source": [
    "# decorador = com argumentos\n",
    "def meu_decorador(funcao):\n",
    "    def envelope():\n",
    "        print('faz algo antes de executar')\n",
    "        funcao()\n",
    "        print('faz algo depois de executar')\n",
    "        \n",
    "    return envelope\n",
    "\n",
    "@meu_decorador\n",
    "def ola_mundo():\n",
    "    print('Hello World!')\n",
    "    \n",
    "ola_mundo()"
   ],
   "id": "db96f0f6cc4feb8f",
   "outputs": [
    {
     "name": "stdout",
     "output_type": "stream",
     "text": [
      "faz algo antes de executar\n",
      "Hello World!\n",
      "faz algo depois de executar\n"
     ]
    }
   ],
   "execution_count": 6
  },
  {
   "metadata": {
    "ExecuteTime": {
     "end_time": "2024-06-11T18:13:48.033406Z",
     "start_time": "2024-06-11T18:13:48.026351Z"
    }
   },
   "cell_type": "code",
   "source": [
    "# decorador = com argumentos\n",
    "def meu_decorador(funcao):\n",
    "    def envelope(*args, **kwargs):\n",
    "        print('faz algo antes de executar')\n",
    "        funcao(*args, **kwargs)\n",
    "        print('faz algo depois de executar')\n",
    "        \n",
    "    return envelope\n",
    "\n",
    "@meu_decorador\n",
    "def ola_mundo(nome):\n",
    "    print(f'Hello World {nome}!')\n",
    "    \n",
    "ola_mundo('Jose')"
   ],
   "id": "b40f76313452548a",
   "outputs": [
    {
     "name": "stdout",
     "output_type": "stream",
     "text": [
      "faz algo antes de executar\n",
      "Hello World Jose!\n",
      "faz algo depois de executar\n"
     ]
    }
   ],
   "execution_count": 7
  },
  {
   "metadata": {},
   "cell_type": "code",
   "outputs": [],
   "execution_count": null,
   "source": "",
   "id": "f4cacfe920c7ac77"
  }
 ],
 "metadata": {
  "kernelspec": {
   "display_name": "Python 3 (ipykernel)",
   "language": "python",
   "name": "python3"
  },
  "language_info": {
   "codemirror_mode": {
    "name": "ipython",
    "version": 3
   },
   "file_extension": ".py",
   "mimetype": "text/x-python",
   "name": "python",
   "nbconvert_exporter": "python",
   "pygments_lexer": "ipython3",
   "version": "3.11.7"
  }
 },
 "nbformat": 4,
 "nbformat_minor": 5
}
